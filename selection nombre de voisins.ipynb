{
 "cells": [
  {
   "cell_type": "code",
   "execution_count": 1,
   "id": "8b660a6e",
   "metadata": {},
   "outputs": [],
   "source": [
    "# Importation de la librairie pandas pour pouvoir charger les données\n",
    "import pandas as pd"
   ]
  },
  {
   "cell_type": "code",
   "execution_count": 2,
   "id": "436da978",
   "metadata": {},
   "outputs": [
    {
     "name": "stdout",
     "output_type": "stream",
     "text": [
      "%pylab is deprecated, use %matplotlib inline and import the required libraries.\n",
      "Populating the interactive namespace from numpy and matplotlib\n"
     ]
    }
   ],
   "source": [
    "# Equivalent à importer numpy et matplotlib\n",
    "%pylab inline"
   ]
  },
  {
   "cell_type": "code",
   "execution_count": 5,
   "id": "614d7d8c",
   "metadata": {},
   "outputs": [],
   "source": [
    "# Charge les données winequality-white du fichier csv donc les colonnes sont séparés par les point-virgules\n",
    "data = pd.read_csv('winequality-white.csv', sep =';')"
   ]
  },
  {
   "cell_type": "code",
   "execution_count": 23,
   "id": "90c60387",
   "metadata": {},
   "outputs": [
    {
     "name": "stdout",
     "output_type": "stream",
     "text": [
      "Index(['fixed acidity', 'volatile acidity', 'citric acid', 'residual sugar',\n",
      "       'chlorides', 'free sulfur dioxide', 'total sulfur dioxide', 'density',\n",
      "       'pH', 'sulphates', 'alcohol', 'quality'],\n",
      "      dtype='object')\n",
      "   fixed acidity  volatile acidity  citric acid  residual sugar  chlorides  \\\n",
      "0            7.0              0.27         0.36            20.7      0.045   \n",
      "1            6.3              0.30         0.34             1.6      0.049   \n",
      "2            8.1              0.28         0.40             6.9      0.050   \n",
      "3            7.2              0.23         0.32             8.5      0.058   \n",
      "4            7.2              0.23         0.32             8.5      0.058   \n",
      "\n",
      "   free sulfur dioxide  total sulfur dioxide  density    pH  sulphates  \\\n",
      "0                 45.0                 170.0   1.0010  3.00       0.45   \n",
      "1                 14.0                 132.0   0.9940  3.30       0.49   \n",
      "2                 30.0                  97.0   0.9951  3.26       0.44   \n",
      "3                 47.0                 186.0   0.9956  3.19       0.40   \n",
      "4                 47.0                 186.0   0.9956  3.19       0.40   \n",
      "\n",
      "   alcohol  quality  \n",
      "0      8.8        6  \n",
      "1      9.5        6  \n",
      "2     10.1        6  \n",
      "3      9.9        6  \n",
      "4      9.9        6  \n"
     ]
    }
   ],
   "source": [
    "# Affiche l'en-tète des éléments du dataset\n",
    "print(data.columns)\n",
    "print(data.head())"
   ]
  },
  {
   "cell_type": "code",
   "execution_count": 43,
   "id": "8a430a38",
   "metadata": {},
   "outputs": [
    {
     "data": {
      "text/plain": [
       "array([[ 7.  ,  0.27,  0.36, ...,  3.  ,  0.45,  8.8 ],\n",
       "       [ 6.3 ,  0.3 ,  0.34, ...,  3.3 ,  0.49,  9.5 ],\n",
       "       [ 8.1 ,  0.28,  0.4 , ...,  3.26,  0.44, 10.1 ],\n",
       "       ...,\n",
       "       [ 6.5 ,  0.24,  0.19, ...,  2.99,  0.46,  9.4 ],\n",
       "       [ 5.5 ,  0.29,  0.3 , ...,  3.34,  0.38, 12.8 ],\n",
       "       [ 6.  ,  0.21,  0.38, ...,  3.26,  0.32, 11.8 ]])"
      ]
     },
     "execution_count": 43,
     "metadata": {},
     "output_type": "execute_result"
    }
   ],
   "source": [
    "# Affiche les valeurs de la matrices en élimininant la dernière colonne qui correspond à la quality\n",
    "X = data[data.columns[:-1]].values\n",
    "X"
   ]
  },
  {
   "cell_type": "code",
   "execution_count": 37,
   "id": "baffb617",
   "metadata": {},
   "outputs": [
    {
     "data": {
      "text/plain": [
       "quality\n",
       "3      20\n",
       "4     163\n",
       "5    1457\n",
       "6    2198\n",
       "7     880\n",
       "8     175\n",
       "9       5\n",
       "dtype: int64"
      ]
     },
     "execution_count": 37,
     "metadata": {},
     "output_type": "execute_result"
    }
   ],
   "source": [
    "data.groupby(['quality']).size()"
   ]
  },
  {
   "cell_type": "code",
   "execution_count": 41,
   "id": "38514f55",
   "metadata": {},
   "outputs": [
    {
     "data": {
      "text/plain": [
       "array([6, 6, 6, ..., 6, 7, 6])"
      ]
     },
     "execution_count": 41,
     "metadata": {},
     "output_type": "execute_result"
    }
   ],
   "source": [
    "# Affiche le tableau de valeur de la colonne quality\n",
    "y = data['quality'].values\n",
    "y"
   ]
  },
  {
   "cell_type": "code",
   "execution_count": 28,
   "id": "8c95261e",
   "metadata": {},
   "outputs": [
    {
     "data": {
      "image/png": "[encoded data removed]",
      "text/plain": [
       "<Figure size 1152x864 with 11 Axes>"
      ]
     },
     "metadata": {
      "needs_background": "light"
     },
     "output_type": "display_data"
    }
   ],
   "source": [
    "# Affiche la distribution des différents features de notre dataset excepté le feature quality\n",
    "fig = plt.figure(figsize=(16, 12)) # Définir une instance de figure\n",
    "for feat_idx in range(X.shape[1]): # Parcoure les 11 features de notre dataset\n",
    "    ax = fig.add_subplot(3,4, (feat_idx+1)) # Représente l'espace où chaque figure sera représenté\n",
    "    h = ax.hist(X[:, feat_idx], bins=50, color='steelblue', density=True, edgecolor='none')\n",
    "    ax.set_title(data.columns[feat_idx], fontsize=14)\n",
    "\n",
    "# On remarque en particulier que ces variables prennent des valeurs dans des ensembles différents. Par exemple, \n",
    "# “sulphates” varie de 0 à 1 tandis que “total sulfur dioxide” varie de 0 à 440"
   ]
  },
  {
   "cell_type": "code",
   "execution_count": 31,
   "id": "c518e033",
   "metadata": {},
   "outputs": [
    {
     "data": {
      "text/plain": [
       "array([1, 1, 1, ..., 1, 1, 1])"
      ]
     },
     "execution_count": 31,
     "metadata": {},
     "output_type": "execute_result"
    }
   ],
   "source": [
    "# transformation du problème en un problème de classification :\n",
    "# il s’agira de séparer les bons vins des vins médiocres ie si quality < 0 mauvais vins(valeur quality = 0)\n",
    "# et sinon bon vin\n",
    "import numpy as np\n",
    "y_class = np.where(y<6, 0, 1)\n",
    "y_class"
   ]
  },
  {
   "cell_type": "code",
   "execution_count": 32,
   "id": "f1a69f42",
   "metadata": {},
   "outputs": [],
   "source": [
    "# Sépations des données en un jeu d’entraînement et en un jeu de test. Le jeu de test contiendra 30% des données\n",
    "from sklearn import model_selection\n",
    "X_train, X_test, y_train, y_test = \\\n",
    "\tmodel_selection.train_test_split(X, y_class,\n",
    "                                \ttest_size=0.3 # 30% des données dans le jeu de test\n",
    "                                \t)"
   ]
  },
  {
   "cell_type": "code",
   "execution_count": 33,
   "id": "e55d8f19",
   "metadata": {},
   "outputs": [],
   "source": [
    "# standardisation des données d’entraînement et appliquer la même transformation aux données de test\n",
    "from sklearn import preprocessing\n",
    "std_scale = preprocessing.StandardScaler().fit(X_train)\n",
    "X_train_std = std_scale.transform(X_train)\n",
    "X_test_std = std_scale.transform(X_test)"
   ]
  },
  {
   "cell_type": "code",
   "execution_count": 34,
   "id": "e1ba8501",
   "metadata": {},
   "outputs": [
    {
     "data": {
      "image/png": "[encoded data removed]",
      "text/plain": [
       "<Figure size 1152x864 with 11 Axes>"
      ]
     },
     "metadata": {
      "needs_background": "light"
     },
     "output_type": "display_data"
    }
   ],
   "source": [
    "# Après standardisation, on remarque que les valeurs des features sont comprises entre -2 et 6\n",
    "fig = plt.figure(figsize=(16, 12))\n",
    "for feat_idx in range(X_train_std.shape[1]):\n",
    "    ax = fig.add_subplot(3,4, (feat_idx+1))\n",
    "    h = ax.hist(X_train_std[:, feat_idx], bins=50, color = 'steelblue', density=True, edgecolor='none')\n",
    "    ax.set_title(data.columns[feat_idx], fontsize=14)\n"
   ]
  },
  {
   "cell_type": "code",
   "execution_count": 35,
   "id": "b232a4f0",
   "metadata": {},
   "outputs": [
    {
     "name": "stdout",
     "output_type": "stream",
     "text": [
      "Meilleur(s) hyperparamètre(s) sur le jeu d'entraînement:\n",
      "{'n_neighbors': 7}\n",
      "Résultats de la validation croisée :\n",
      "accuracy = 0.754 (+/-0.042) for {'n_neighbors': 3}\n",
      "accuracy = 0.762 (+/-0.034) for {'n_neighbors': 5}\n",
      "accuracy = 0.766 (+/-0.013) for {'n_neighbors': 7}\n",
      "accuracy = 0.761 (+/-0.015) for {'n_neighbors': 9}\n",
      "accuracy = 0.763 (+/-0.024) for {'n_neighbors': 11}\n",
      "accuracy = 0.765 (+/-0.022) for {'n_neighbors': 13}\n",
      "accuracy = 0.765 (+/-0.010) for {'n_neighbors': 15}\n"
     ]
    }
   ],
   "source": [
    "from sklearn import neighbors, metrics\n",
    "\n",
    "# Fixer les valeurs des hyperparamètres à tester\n",
    "param_grid = {'n_neighbors':[3, 5, 7, 9, 11, 13, 15]}\n",
    "\n",
    "# Choisir un score à optimiser, ici l'accuracy (proportion de prédictions correctes)\n",
    "score = 'accuracy'\n",
    "\n",
    "# Créer un classifieur kNN avec recherche d'hyperparamètre par validation croisée\n",
    "clf = model_selection.GridSearchCV(\n",
    "    neighbors.KNeighborsClassifier(), # un classifieur kNN\n",
    "    param_grid,     # hyperparamètres à tester\n",
    "    cv=5,           # nombre de folds de validation croisée\n",
    "    scoring=score   # score à optimiser\n",
    ")\n",
    "\n",
    "# Optimiser ce classifieur sur le jeu d'entraînement\n",
    "clf.fit(X_train_std, y_train)\n",
    "\n",
    "# Afficher le(s) hyperparamètre(s) optimaux\n",
    "print(\"Meilleur(s) hyperparamètre(s) sur le jeu d'entraînement:\")\n",
    "print(clf.best_params_)\n",
    "\n",
    "# Afficher les performances correspondantes\n",
    "print(\"Résultats de la validation croisée :\")\n",
    "for mean, std, params in zip(\n",
    "        clf.cv_results_['mean_test_score'], # score moyen\n",
    "        clf.cv_results_['std_test_score'],  # écart-type du score\n",
    "        clf.cv_results_['params']           # valeur de l'hyperparamètre\n",
    "    ):\n",
    "\n",
    "    print(\"{} = {:.3f} (+/-{:.03f}) for {}\".format(\n",
    "        score,\n",
    "        mean,\n",
    "        std*2,\n",
    "        params\n",
    "    ) )\n"
   ]
  },
  {
   "cell_type": "code",
   "execution_count": 36,
   "id": "36d16e26",
   "metadata": {},
   "outputs": [
    {
     "name": "stdout",
     "output_type": "stream",
     "text": [
      "\n",
      "Sur le jeu de test : 0.757\n"
     ]
    }
   ],
   "source": [
    "y_pred = clf.predict(X_test_std)\n",
    "print(\"\\nSur le jeu de test : {:.3f}\".format(metrics.accuracy_score(y_test, y_pred)))"
   ]
  },
  {
   "cell_type": "code",
   "execution_count": 45,
   "id": "9d3d5daa",
   "metadata": {},
   "outputs": [
    {
     "data": {
      "text/html": [
       "<div>\n",
       "<style scoped>\n",
       "    .dataframe tbody tr th:only-of-type {\n",
       "        vertical-align: middle;\n",
       "    }\n",
       "\n",
       "    .dataframe tbody tr th {\n",
       "        vertical-align: top;\n",
       "    }\n",
       "\n",
       "    .dataframe thead th {\n",
       "        text-align: right;\n",
       "    }\n",
       "</style>\n",
       "<table border=\"1\" class=\"dataframe\">\n",
       "  <thead>\n",
       "    <tr style=\"text-align: right;\">\n",
       "      <th></th>\n",
       "      <th>fixed acidity</th>\n",
       "      <th>volatile acidity</th>\n",
       "      <th>citric acid</th>\n",
       "      <th>residual sugar</th>\n",
       "      <th>chlorides</th>\n",
       "      <th>free sulfur dioxide</th>\n",
       "      <th>total sulfur dioxide</th>\n",
       "      <th>density</th>\n",
       "      <th>pH</th>\n",
       "      <th>sulphates</th>\n",
       "      <th>alcohol</th>\n",
       "      <th>quality</th>\n",
       "    </tr>\n",
       "  </thead>\n",
       "  <tbody>\n",
       "    <tr>\n",
       "      <th>0</th>\n",
       "      <td>7.0</td>\n",
       "      <td>0.27</td>\n",
       "      <td>0.36</td>\n",
       "      <td>20.7</td>\n",
       "      <td>0.045</td>\n",
       "      <td>45.0</td>\n",
       "      <td>170.0</td>\n",
       "      <td>1.0010</td>\n",
       "      <td>3.00</td>\n",
       "      <td>0.45</td>\n",
       "      <td>8.8</td>\n",
       "      <td>6</td>\n",
       "    </tr>\n",
       "    <tr>\n",
       "      <th>1</th>\n",
       "      <td>6.3</td>\n",
       "      <td>0.30</td>\n",
       "      <td>0.34</td>\n",
       "      <td>1.6</td>\n",
       "      <td>0.049</td>\n",
       "      <td>14.0</td>\n",
       "      <td>132.0</td>\n",
       "      <td>0.9940</td>\n",
       "      <td>3.30</td>\n",
       "      <td>0.49</td>\n",
       "      <td>9.5</td>\n",
       "      <td>6</td>\n",
       "    </tr>\n",
       "    <tr>\n",
       "      <th>2</th>\n",
       "      <td>8.1</td>\n",
       "      <td>0.28</td>\n",
       "      <td>0.40</td>\n",
       "      <td>6.9</td>\n",
       "      <td>0.050</td>\n",
       "      <td>30.0</td>\n",
       "      <td>97.0</td>\n",
       "      <td>0.9951</td>\n",
       "      <td>3.26</td>\n",
       "      <td>0.44</td>\n",
       "      <td>10.1</td>\n",
       "      <td>6</td>\n",
       "    </tr>\n",
       "    <tr>\n",
       "      <th>3</th>\n",
       "      <td>7.2</td>\n",
       "      <td>0.23</td>\n",
       "      <td>0.32</td>\n",
       "      <td>8.5</td>\n",
       "      <td>0.058</td>\n",
       "      <td>47.0</td>\n",
       "      <td>186.0</td>\n",
       "      <td>0.9956</td>\n",
       "      <td>3.19</td>\n",
       "      <td>0.40</td>\n",
       "      <td>9.9</td>\n",
       "      <td>6</td>\n",
       "    </tr>\n",
       "    <tr>\n",
       "      <th>4</th>\n",
       "      <td>7.2</td>\n",
       "      <td>0.23</td>\n",
       "      <td>0.32</td>\n",
       "      <td>8.5</td>\n",
       "      <td>0.058</td>\n",
       "      <td>47.0</td>\n",
       "      <td>186.0</td>\n",
       "      <td>0.9956</td>\n",
       "      <td>3.19</td>\n",
       "      <td>0.40</td>\n",
       "      <td>9.9</td>\n",
       "      <td>6</td>\n",
       "    </tr>\n",
       "  </tbody>\n",
       "</table>\n",
       "</div>"
      ],
      "text/plain": [
       "   fixed acidity  volatile acidity  citric acid  residual sugar  chlorides  \\\n",
       "0            7.0              0.27         0.36            20.7      0.045   \n",
       "1            6.3              0.30         0.34             1.6      0.049   \n",
       "2            8.1              0.28         0.40             6.9      0.050   \n",
       "3            7.2              0.23         0.32             8.5      0.058   \n",
       "4            7.2              0.23         0.32             8.5      0.058   \n",
       "\n",
       "   free sulfur dioxide  total sulfur dioxide  density    pH  sulphates  \\\n",
       "0                 45.0                 170.0   1.0010  3.00       0.45   \n",
       "1                 14.0                 132.0   0.9940  3.30       0.49   \n",
       "2                 30.0                  97.0   0.9951  3.26       0.44   \n",
       "3                 47.0                 186.0   0.9956  3.19       0.40   \n",
       "4                 47.0                 186.0   0.9956  3.19       0.40   \n",
       "\n",
       "   alcohol  quality  \n",
       "0      8.8        6  \n",
       "1      9.5        6  \n",
       "2     10.1        6  \n",
       "3      9.9        6  \n",
       "4      9.9        6  "
      ]
     },
     "execution_count": 45,
     "metadata": {},
     "output_type": "execute_result"
    }
   ],
   "source": [
    "data.head()"
   ]
  },
  {
   "cell_type": "code",
   "execution_count": 49,
   "id": "13f19e97",
   "metadata": {},
   "outputs": [
    {
     "data": {
      "text/html": [
       "<div>\n",
       "<style scoped>\n",
       "    .dataframe tbody tr th:only-of-type {\n",
       "        vertical-align: middle;\n",
       "    }\n",
       "\n",
       "    .dataframe tbody tr th {\n",
       "        vertical-align: top;\n",
       "    }\n",
       "\n",
       "    .dataframe thead th {\n",
       "        text-align: right;\n",
       "    }\n",
       "</style>\n",
       "<table border=\"1\" class=\"dataframe\">\n",
       "  <thead>\n",
       "    <tr style=\"text-align: right;\">\n",
       "      <th></th>\n",
       "      <th>fixed acidity</th>\n",
       "      <th>volatile acidity</th>\n",
       "      <th>citric acid</th>\n",
       "      <th>residual sugar</th>\n",
       "      <th>chlorides</th>\n",
       "      <th>free sulfur dioxide</th>\n",
       "      <th>total sulfur dioxide</th>\n",
       "      <th>density</th>\n",
       "      <th>pH</th>\n",
       "      <th>sulphates</th>\n",
       "      <th>alcohol</th>\n",
       "    </tr>\n",
       "  </thead>\n",
       "  <tbody>\n",
       "    <tr>\n",
       "      <th>0</th>\n",
       "      <td>7.0</td>\n",
       "      <td>0.27</td>\n",
       "      <td>0.36</td>\n",
       "      <td>20.7</td>\n",
       "      <td>0.045</td>\n",
       "      <td>45.0</td>\n",
       "      <td>170.0</td>\n",
       "      <td>1.00100</td>\n",
       "      <td>3.00</td>\n",
       "      <td>0.45</td>\n",
       "      <td>8.8</td>\n",
       "    </tr>\n",
       "    <tr>\n",
       "      <th>1</th>\n",
       "      <td>6.3</td>\n",
       "      <td>0.30</td>\n",
       "      <td>0.34</td>\n",
       "      <td>1.6</td>\n",
       "      <td>0.049</td>\n",
       "      <td>14.0</td>\n",
       "      <td>132.0</td>\n",
       "      <td>0.99400</td>\n",
       "      <td>3.30</td>\n",
       "      <td>0.49</td>\n",
       "      <td>9.5</td>\n",
       "    </tr>\n",
       "    <tr>\n",
       "      <th>2</th>\n",
       "      <td>8.1</td>\n",
       "      <td>0.28</td>\n",
       "      <td>0.40</td>\n",
       "      <td>6.9</td>\n",
       "      <td>0.050</td>\n",
       "      <td>30.0</td>\n",
       "      <td>97.0</td>\n",
       "      <td>0.99510</td>\n",
       "      <td>3.26</td>\n",
       "      <td>0.44</td>\n",
       "      <td>10.1</td>\n",
       "    </tr>\n",
       "    <tr>\n",
       "      <th>3</th>\n",
       "      <td>7.2</td>\n",
       "      <td>0.23</td>\n",
       "      <td>0.32</td>\n",
       "      <td>8.5</td>\n",
       "      <td>0.058</td>\n",
       "      <td>47.0</td>\n",
       "      <td>186.0</td>\n",
       "      <td>0.99560</td>\n",
       "      <td>3.19</td>\n",
       "      <td>0.40</td>\n",
       "      <td>9.9</td>\n",
       "    </tr>\n",
       "    <tr>\n",
       "      <th>4</th>\n",
       "      <td>7.2</td>\n",
       "      <td>0.23</td>\n",
       "      <td>0.32</td>\n",
       "      <td>8.5</td>\n",
       "      <td>0.058</td>\n",
       "      <td>47.0</td>\n",
       "      <td>186.0</td>\n",
       "      <td>0.99560</td>\n",
       "      <td>3.19</td>\n",
       "      <td>0.40</td>\n",
       "      <td>9.9</td>\n",
       "    </tr>\n",
       "    <tr>\n",
       "      <th>...</th>\n",
       "      <td>...</td>\n",
       "      <td>...</td>\n",
       "      <td>...</td>\n",
       "      <td>...</td>\n",
       "      <td>...</td>\n",
       "      <td>...</td>\n",
       "      <td>...</td>\n",
       "      <td>...</td>\n",
       "      <td>...</td>\n",
       "      <td>...</td>\n",
       "      <td>...</td>\n",
       "    </tr>\n",
       "    <tr>\n",
       "      <th>4893</th>\n",
       "      <td>6.2</td>\n",
       "      <td>0.21</td>\n",
       "      <td>0.29</td>\n",
       "      <td>1.6</td>\n",
       "      <td>0.039</td>\n",
       "      <td>24.0</td>\n",
       "      <td>92.0</td>\n",
       "      <td>0.99114</td>\n",
       "      <td>3.27</td>\n",
       "      <td>0.50</td>\n",
       "      <td>11.2</td>\n",
       "    </tr>\n",
       "    <tr>\n",
       "      <th>4894</th>\n",
       "      <td>6.6</td>\n",
       "      <td>0.32</td>\n",
       "      <td>0.36</td>\n",
       "      <td>8.0</td>\n",
       "      <td>0.047</td>\n",
       "      <td>57.0</td>\n",
       "      <td>168.0</td>\n",
       "      <td>0.99490</td>\n",
       "      <td>3.15</td>\n",
       "      <td>0.46</td>\n",
       "      <td>9.6</td>\n",
       "    </tr>\n",
       "    <tr>\n",
       "      <th>4895</th>\n",
       "      <td>6.5</td>\n",
       "      <td>0.24</td>\n",
       "      <td>0.19</td>\n",
       "      <td>1.2</td>\n",
       "      <td>0.041</td>\n",
       "      <td>30.0</td>\n",
       "      <td>111.0</td>\n",
       "      <td>0.99254</td>\n",
       "      <td>2.99</td>\n",
       "      <td>0.46</td>\n",
       "      <td>9.4</td>\n",
       "    </tr>\n",
       "    <tr>\n",
       "      <th>4896</th>\n",
       "      <td>5.5</td>\n",
       "      <td>0.29</td>\n",
       "      <td>0.30</td>\n",
       "      <td>1.1</td>\n",
       "      <td>0.022</td>\n",
       "      <td>20.0</td>\n",
       "      <td>110.0</td>\n",
       "      <td>0.98869</td>\n",
       "      <td>3.34</td>\n",
       "      <td>0.38</td>\n",
       "      <td>12.8</td>\n",
       "    </tr>\n",
       "    <tr>\n",
       "      <th>4897</th>\n",
       "      <td>6.0</td>\n",
       "      <td>0.21</td>\n",
       "      <td>0.38</td>\n",
       "      <td>0.8</td>\n",
       "      <td>0.020</td>\n",
       "      <td>22.0</td>\n",
       "      <td>98.0</td>\n",
       "      <td>0.98941</td>\n",
       "      <td>3.26</td>\n",
       "      <td>0.32</td>\n",
       "      <td>11.8</td>\n",
       "    </tr>\n",
       "  </tbody>\n",
       "</table>\n",
       "<p>4898 rows × 11 columns</p>\n",
       "</div>"
      ],
      "text/plain": [
       "      fixed acidity  volatile acidity  citric acid  residual sugar  chlorides  \\\n",
       "0               7.0              0.27         0.36            20.7      0.045   \n",
       "1               6.3              0.30         0.34             1.6      0.049   \n",
       "2               8.1              0.28         0.40             6.9      0.050   \n",
       "3               7.2              0.23         0.32             8.5      0.058   \n",
       "4               7.2              0.23         0.32             8.5      0.058   \n",
       "...             ...               ...          ...             ...        ...   \n",
       "4893            6.2              0.21         0.29             1.6      0.039   \n",
       "4894            6.6              0.32         0.36             8.0      0.047   \n",
       "4895            6.5              0.24         0.19             1.2      0.041   \n",
       "4896            5.5              0.29         0.30             1.1      0.022   \n",
       "4897            6.0              0.21         0.38             0.8      0.020   \n",
       "\n",
       "      free sulfur dioxide  total sulfur dioxide  density    pH  sulphates  \\\n",
       "0                    45.0                 170.0  1.00100  3.00       0.45   \n",
       "1                    14.0                 132.0  0.99400  3.30       0.49   \n",
       "2                    30.0                  97.0  0.99510  3.26       0.44   \n",
       "3                    47.0                 186.0  0.99560  3.19       0.40   \n",
       "4                    47.0                 186.0  0.99560  3.19       0.40   \n",
       "...                   ...                   ...      ...   ...        ...   \n",
       "4893                 24.0                  92.0  0.99114  3.27       0.50   \n",
       "4894                 57.0                 168.0  0.99490  3.15       0.46   \n",
       "4895                 30.0                 111.0  0.99254  2.99       0.46   \n",
       "4896                 20.0                 110.0  0.98869  3.34       0.38   \n",
       "4897                 22.0                  98.0  0.98941  3.26       0.32   \n",
       "\n",
       "      alcohol  \n",
       "0         8.8  \n",
       "1         9.5  \n",
       "2        10.1  \n",
       "3         9.9  \n",
       "4         9.9  \n",
       "...       ...  \n",
       "4893     11.2  \n",
       "4894      9.6  \n",
       "4895      9.4  \n",
       "4896     12.8  \n",
       "4897     11.8  \n",
       "\n",
       "[4898 rows x 11 columns]"
      ]
     },
     "execution_count": 49,
     "metadata": {},
     "output_type": "execute_result"
    }
   ],
   "source": [
    "# Affiche le dataset sauf le feature quality\n",
    "X1 = data[data.columns[:-1]]\n",
    "X1"
   ]
  },
  {
   "cell_type": "code",
   "execution_count": 50,
   "id": "d2b63a8b",
   "metadata": {},
   "outputs": [
    {
     "name": "stdout",
     "output_type": "stream",
     "text": [
      "y (4898,)\n"
     ]
    }
   ],
   "source": [
    "# Etiquettes correspondantes (sous-types moléculaires)\n",
    "y1 = data['quality']\n",
    "print('y', y1.shape)"
   ]
  },
  {
   "cell_type": "code",
   "execution_count": 53,
   "id": "d821adac",
   "metadata": {},
   "outputs": [
    {
     "name": "stdout",
     "output_type": "stream",
     "text": [
      "Train (3918, 11) Test (980, 11)\n",
      "Train (3918, 11) Test (980, 11)\n",
      "Train (3918, 11) Test (980, 11)\n",
      "Train (3919, 11) Test (979, 11)\n",
      "Train (3919, 11) Test (979, 11)\n"
     ]
    }
   ],
   "source": [
    "# Créer une validation croisée stratifiée\n",
    "\n",
    "from sklearn.model_selection import StratifiedKFold\n",
    "\n",
    "random_state = 0\n",
    "cross_validation = StratifiedKFold(n_splits=5, random_state=random_state, shuffle=True)\n",
    "\n",
    "for train_index, test_index in cross_validation.split(X, y_class):\n",
    "    X_train1 = X1.iloc[train_index]\n",
    "    X_test1 = X1.iloc[test_index]\n",
    "    print('Train', X_train1.shape, 'Test', X_test1.shape)"
   ]
  },
  {
   "cell_type": "code",
   "execution_count": 54,
   "id": "62905ba8",
   "metadata": {},
   "outputs": [],
   "source": []
  },
  {
   "cell_type": "code",
   "execution_count": 65,
   "id": "83d0f83c",
   "metadata": {},
   "outputs": [
    {
     "name": "stderr",
     "output_type": "stream",
     "text": [
      "/home/ismael/.local/lib/python3.8/site-packages/sklearn/model_selection/_split.py:680: UserWarning: The least populated class in y has only 4 members, which is less than n_splits=5.\n",
      "  warnings.warn(\n"
     ]
    },
    {
     "name": "stdout",
     "output_type": "stream",
     "text": [
      "Meilleur(s) hyperparamètre(s) sur le jeu d'entraînement:\n",
      "{'n_neighbors': 15}\n",
      "Résultats de la validation croisée :\n",
      "accuracy = 0.754 (+/-0.042) for {'n_neighbors': 3}\n",
      "accuracy = 0.762 (+/-0.034) for {'n_neighbors': 5}\n",
      "accuracy = 0.766 (+/-0.013) for {'n_neighbors': 7}\n",
      "accuracy = 0.761 (+/-0.015) for {'n_neighbors': 9}\n",
      "accuracy = 0.763 (+/-0.024) for {'n_neighbors': 11}\n",
      "accuracy = 0.765 (+/-0.022) for {'n_neighbors': 13}\n",
      "accuracy = 0.765 (+/-0.010) for {'n_neighbors': 15}\n",
      "Iteration 1 Accuracy = 0.52244898\n",
      "Meilleur(s) hyperparamètre(s) sur le jeu d'entraînement:\n",
      "{'n_neighbors': 11}\n",
      "Résultats de la validation croisée :\n",
      "accuracy = 0.754 (+/-0.042) for {'n_neighbors': 3}\n",
      "accuracy = 0.762 (+/-0.034) for {'n_neighbors': 5}\n",
      "accuracy = 0.766 (+/-0.013) for {'n_neighbors': 7}\n",
      "accuracy = 0.761 (+/-0.015) for {'n_neighbors': 9}\n",
      "accuracy = 0.763 (+/-0.024) for {'n_neighbors': 11}\n",
      "accuracy = 0.765 (+/-0.022) for {'n_neighbors': 13}\n",
      "accuracy = 0.765 (+/-0.010) for {'n_neighbors': 15}\n",
      "Iteration 2 Accuracy = 0.54693878\n"
     ]
    },
    {
     "name": "stderr",
     "output_type": "stream",
     "text": [
      "/home/ismael/.local/lib/python3.8/site-packages/sklearn/model_selection/_split.py:680: UserWarning: The least populated class in y has only 3 members, which is less than n_splits=5.\n",
      "  warnings.warn(\n"
     ]
    },
    {
     "name": "stdout",
     "output_type": "stream",
     "text": [
      "Meilleur(s) hyperparamètre(s) sur le jeu d'entraînement:\n",
      "{'n_neighbors': 15}\n",
      "Résultats de la validation croisée :\n",
      "accuracy = 0.754 (+/-0.042) for {'n_neighbors': 3}\n",
      "accuracy = 0.762 (+/-0.034) for {'n_neighbors': 5}\n",
      "accuracy = 0.766 (+/-0.013) for {'n_neighbors': 7}\n",
      "accuracy = 0.761 (+/-0.015) for {'n_neighbors': 9}\n",
      "accuracy = 0.763 (+/-0.024) for {'n_neighbors': 11}\n",
      "accuracy = 0.765 (+/-0.022) for {'n_neighbors': 13}\n",
      "accuracy = 0.765 (+/-0.010) for {'n_neighbors': 15}\n",
      "Iteration 3 Accuracy = 0.55918367\n"
     ]
    },
    {
     "name": "stderr",
     "output_type": "stream",
     "text": [
      "/home/ismael/.local/lib/python3.8/site-packages/sklearn/model_selection/_split.py:680: UserWarning: The least populated class in y has only 3 members, which is less than n_splits=5.\n",
      "  warnings.warn(\n"
     ]
    },
    {
     "name": "stdout",
     "output_type": "stream",
     "text": [
      "Meilleur(s) hyperparamètre(s) sur le jeu d'entraînement:\n",
      "{'n_neighbors': 15}\n",
      "Résultats de la validation croisée :\n",
      "accuracy = 0.754 (+/-0.042) for {'n_neighbors': 3}\n",
      "accuracy = 0.762 (+/-0.034) for {'n_neighbors': 5}\n",
      "accuracy = 0.766 (+/-0.013) for {'n_neighbors': 7}\n",
      "accuracy = 0.761 (+/-0.015) for {'n_neighbors': 9}\n",
      "accuracy = 0.763 (+/-0.024) for {'n_neighbors': 11}\n",
      "accuracy = 0.765 (+/-0.022) for {'n_neighbors': 13}\n",
      "accuracy = 0.765 (+/-0.010) for {'n_neighbors': 15}\n",
      "Iteration 4 Accuracy = 0.56281920\n",
      "Meilleur(s) hyperparamètre(s) sur le jeu d'entraînement:\n",
      "{'n_neighbors': 15}\n",
      "Résultats de la validation croisée :\n",
      "accuracy = 0.754 (+/-0.042) for {'n_neighbors': 3}\n",
      "accuracy = 0.762 (+/-0.034) for {'n_neighbors': 5}\n",
      "accuracy = 0.766 (+/-0.013) for {'n_neighbors': 7}\n",
      "accuracy = 0.761 (+/-0.015) for {'n_neighbors': 9}\n",
      "accuracy = 0.763 (+/-0.024) for {'n_neighbors': 11}\n",
      "accuracy = 0.765 (+/-0.022) for {'n_neighbors': 13}\n",
      "accuracy = 0.765 (+/-0.010) for {'n_neighbors': 15}\n",
      "Iteration 5 Accuracy = 0.53421859\n",
      "Mean accuracy 0.545\n"
     ]
    }
   ],
   "source": [
    "from sklearn.preprocessing import StandardScaler\n",
    "from sklearn.svm import SVC\n",
    "from sklearn import metrics\n",
    "from sklearn import neighbors, metrics\n",
    "\n",
    "# Fixer les valeurs des hyperparamètres à tester\n",
    "param_grid = {'n_neighbors':[3, 5, 7, 9, 11, 13, 15]}\n",
    "\n",
    "# Choisir un score à optimiser, ici l'accuracy (proportion de prédictions correctes)\n",
    "score = 'accuracy'\n",
    "\n",
    "# Créer un classifieur kNN avec recherche d'hyperparamètre par validation croisée\n",
    "clf1 = model_selection.GridSearchCV(\n",
    "    neighbors.KNeighborsClassifier(), # un classifieur kNN\n",
    "    param_grid,     # hyperparamètres à tester\n",
    "    cv=5,           # nombre de folds de validation croisée\n",
    "    scoring=score   # score à optimiser\n",
    ")\n",
    "\n",
    "accuracy = pd.Series(dtype=float)\n",
    "\n",
    "iteration = 0\n",
    "for train_index, test_index in cross_validation.split(X, y_class):\n",
    "    \n",
    "    iteration += 1 # short version of \"iteration = iteration + 1\"\n",
    "    \n",
    "    # Train dataset\n",
    "    X_train1 = X1.iloc[train_index]\n",
    "    y_train1 = y1.iloc[train_index]\n",
    "    \n",
    "    \n",
    "    # Test dataset\n",
    "    X_test1 = X1.iloc[test_index]\n",
    "    y_test1 = y1.iloc[test_index]\n",
    "    \n",
    "    # Standardisation des données d'entrainement\n",
    "    std_scale1 = preprocessing.StandardScaler().fit(X_train1)\n",
    "    X_train_std1 = std_scale1.transform(X_train1)\n",
    "    X_test_std1 = std_scale1.transform(X_test1)\n",
    "    \n",
    "    # Train ML classifier\n",
    "    clf1.fit(X_train_std1, y_train1)\n",
    "    \n",
    "    # Prediction\n",
    "    y_pred_test1 = clf1.predict(X_test_std1)\n",
    "    \n",
    "    # Accuracy\n",
    "    accuracy_test = metrics.accuracy_score(y_test1, y_pred_test1) \n",
    "    accuracy.loc[iteration] = accuracy_test\n",
    "    \n",
    "    # Afficher le(s) hyperparamètre(s) optimaux\n",
    "    print(\"Meilleur(s) hyperparamètre(s) sur le jeu d'entraînement:\")\n",
    "    print(clf1.best_params_)\n",
    "    # Afficher les performances correspondantes\n",
    "    print(\"Résultats de la validation croisée :\")\n",
    "    for mean, std, params in zip(\n",
    "            clf.cv_results_['mean_test_score'], # score moyen\n",
    "            clf.cv_results_['std_test_score'],  # écart-type du score\n",
    "            clf.cv_results_['params']           # valeur de l'hyperparamètre\n",
    "        ):\n",
    "\n",
    "        print(\"{} = {:.3f} (+/-{:.03f}) for {}\".format(\n",
    "            score,\n",
    "            mean,\n",
    "            std*2,\n",
    "            params\n",
    "        ) )\n",
    "    \n",
    "\n",
    "    \n",
    "    # Display\n",
    "    print('Iteration', iteration, 'Accuracy =', '{:.8f}'.format(accuracy_test))\n",
    "\n",
    "print('Mean accuracy', '{:.3f}'.format(accuracy.mean()))"
   ]
  },
  {
   "cell_type": "code",
   "execution_count": 60,
   "id": "b2dc6956",
   "metadata": {},
   "outputs": [
    {
     "name": "stdout",
     "output_type": "stream",
     "text": [
      "[0.74285714 0.75408163 0.79183673 0.76302349 0.7752809 ]\n",
      "Mean test accuracy 0.765\n"
     ]
    }
   ],
   "source": [
    "# Utilisation de Pipeline\n",
    "\n",
    "from sklearn.pipeline import Pipeline\n",
    "from sklearn.model_selection import cross_val_score\n",
    "\n",
    "scaler = StandardScaler()\n",
    "\n",
    "pipeline = Pipeline([('scaler', scaler), ('classifier', clf1)])\n",
    "\n",
    "accuracy = cross_val_score(pipeline, X, y_class, cv=cross_validation)\n",
    "print(accuracy)\n",
    "print('Mean test accuracy', '{:.3f}'.format(accuracy.mean()))"
   ]
  },
  {
   "cell_type": "code",
   "execution_count": null,
   "id": "751c7501",
   "metadata": {},
   "outputs": [],
   "source": []
  }
 ],
 "metadata": {
  "kernelspec": {
   "display_name": "Python 3 (ipykernel)",
   "language": "python",
   "name": "python3"
  },
  "language_info": {
   "codemirror_mode": {
    "name": "ipython",
    "version": 3
   },
   "file_extension": ".py",
   "mimetype": "text/x-python",
   "name": "python",
   "nbconvert_exporter": "python",
   "pygments_lexer": "ipython3",
   "version": "3.8.10"
  }
 },
 "nbformat": 4,
 "nbformat_minor": 5
}
